{
 "cells": [
  {
   "cell_type": "markdown",
   "id": "a670d824",
   "metadata": {},
   "source": [
    "\n",
    "# Job Shop Scheduling Problem \n",
    "\n"
   ]
  },
  {
   "cell_type": "markdown",
   "id": "1925eee3",
   "metadata": {},
   "source": [
    "## System Description (DFJSP)\n",
    "\n",
    "The **Dynamic Flexible Job Shop Scheduling Problem (DFJSP)** schedules dynamically arriving jobs on multiple machines to minimize total tardiness.\n",
    "\n",
    "- There are $n$ successively arriving jobs $J=\\{J_1,\\dots,J_n\\}$ to be processed with $m$ machines $M=\\{M_1,\\dots,M_m\\}$.\n",
    "\n",
    "- Each job $J_i$ has $n_i$ ordered operations $ O_{i,1},\\; O_{i,2},\\; \\dots,\\; O_{i,n_i}$.\n",
    "- Each operation $O_{i,j}$ can be processed on any compatible machine from its set $M_{i,j}\\subseteq M$, with processing time $t_{i,j,k}$ on machine $M_k$.\n",
    "\n",
    "- Each job has:\n",
    "    - Arrival time $A_i$\n",
    "    - Due date $D_i$\n",
    "    - Operation completion time $C_{i,j}$\n",
    "\n",
    "- To simplify the problem there are some constraints on the system.\n",
    "    - **Capacity:** each machine processes at most one operation at a time.  \n",
    "    - **Precedence:** operations of the same job follow the fixed order $O_{i,1}\\!\\to\\! \\cdots \\!\\to\\! O_{i,n_i}$.  \n",
    "    - **Non-preemption:** once started, an operation runs to completion.  \n",
    "    - **No setups/transport:** setup and transfer times are neglected.\n",
    "\n",
    "### Decisions\n",
    "1. **Machine assignment (routing):** choose $M_k \\in M_{i,j}$ for each $O_{i,j}$.\n",
    "2. **Sequencing:** order operations waiting on each machine.\n",
    "\n",
    "### Objective\n",
    "Minimize total tardiness:\n",
    "$$\n",
    "\\min \\sum_{i=1}^{n} \\max\\big(C_{i,n_i} - D_i,\\; 0\\big).\n",
    "$$\n",
    "\n",
    "### Constraints (informal)\n",
    "1. **Capacity:** each machine processes at most one operation at a time.  \n",
    "2. **Precedence:** operations of the same job follow the fixed order $O_{i,1}\\!\\to\\! \\cdots \\!\\to\\! O_{i,n_i}$.  \n",
    "3. **Non-preemption:** once started, an operation runs to completion.  \n",
    "4. **No setups/transport:** setup and transfer times are neglected.\n",
    "\n",
    "\n"
   ]
  },
  {
   "cell_type": "markdown",
   "id": "c0fcbef8",
   "metadata": {},
   "source": [
    "## State Representaion:\n",
    "\n",
    "-  In previous RL-based scheduling methods, state feature was defind as a some indicatorus of the production status, i.e. number of machines/jobs/operations in shop floor, the remaining processing time of uncompleted jobs, the current workload/queue length of each machine and so on. However, the problem of this approach is that in real world the number of jobs/machine/operations are large and can vary in a wide range, and taking these indicators as state decrease the generalizability of the RL agent. Since it can only perform well under the same same state size.\n",
    "- To seprate the state representaion from the the direct indicator mentiond earlier, we use seven elaborately state feature with each value in the range of [0, 1].\n",
    "\n",
    "At each rescheduling point *t*, the environment state is represented by the following features:\n",
    "\n",
    "1. **Average machine utilization:**  $U_{ave}(t) = \\frac{\\sum_{k=1}^{m} U_k(t)}{m}$\n",
    "\n",
    "2. **Standard deviation of machine utilization:**  $U_{std}(t) = \\sqrt{\\frac{\\sum_{k=1}^{m} (U_k(t) - U_{ave}(t))^2}{m}}$\n",
    "\n",
    "3. **Average operation completion rate:**  $CRO_{ave}(t) = \\frac{\\sum_{i=1}^{n} OP_i(t)}{\\sum_{i=1}^{n} n_i}$\n",
    "\n",
    "4. **Average job completion rate:**  $CRJ_{ave}(t) = \\frac{\\sum_{i=1}^{n} CRJ_i(t)}{n}$\n",
    "\n",
    "5. **Standard deviation of job completion rate:**  $CRJ_{std}(t) = \\sqrt{\\frac{\\sum_{i=1}^{n} (CRJ_i(t) - CRJ_{ave}(t))^2}{n}}$\n",
    "\n",
    "6. **Estimated tardiness rate:**  $Tard_{e}(t) = \\frac{N_{tard}}{N_{left}}$\n",
    "\n",
    "7. **Actual tardiness rate:**  $Tard_{a}(t) = \\frac{\\text{Number of actual tardy operations}}{\\text{Number of uncompleted operations}}$\n"
   ]
  },
  {
   "cell_type": "markdown",
   "id": "2db8cfe0",
   "metadata": {},
   "source": [
    "## Action Space:\n",
    "\n",
    "Before going explaning action space for the RL agent we need to explain what are the decision that need to be taken for succesful and efficient job shop scheduling.\n",
    "There are two main categories of decision that need to be taken, **sequencing** and **machine assignment (routing)**.\n",
    "\n",
    "- Sequencing: Determines the order in which jobs are processed on each machine.\n",
    "- Machine assignment: Determines which machine will execute a specific operation when multiple machines are capable of performing it.\n",
    "\n",
    "\n",
    "Traditionaly some rules have been used for job shop scheduling problem, but no specific rule has found to perform well across all shop configuration. Here the goal of reinforcemnet learning agent is to select between six different comosite of sequencing and machine assignment rule. In this way the reinforcement learning can learn to dispatch each rules based on the status of the system. \n",
    "\n",
    "List of the rules: \n",
    "| **Rule** | **Description** | **Formula / Logic** |\n",
    "|-----------|-----------------|----------------------|\n",
    "| **LWKRSPT** | Least Work Remaining, tie-break by Shortest Processing Time | Lexicographic rule: minimize **LWKR**, then **PT** |\n",
    "| **LWKRMOD** | Least Work Remaining, tie-break by Modified Operation Due Date | Lexicographic rule: minimize **LWKR**, then **MOD** |\n",
    "| **PTWINQ** | Processing Time plus Work In Next Queue | **Priority = PT + WINQ** |\n",
    "| **PTWINQS** | Processing Time plus Work In Next Queue plus Slack | **Priority = PT + WINQ + Slack** |\n",
    "| **DPTLWKRS** | Double Processing Time plus Least Work Remaining plus Slack | **Priority = 2×PT + LWKR + Slack** |\n",
    "| **DPTWINQNPT** | Double Processing Time plus Work In Next Queue plus Next Processing Time | **Priority = 2×PT + WINQ + NPT** |"
   ]
  },
  {
   "cell_type": "markdown",
   "id": "42706441",
   "metadata": {},
   "source": [
    "### Rule 1: **LWKRSPT**"
   ]
  },
  {
   "cell_type": "code",
   "execution_count": null,
   "id": "393dce07",
   "metadata": {},
   "outputs": [],
   "source": [
    "# This is a placeholder for the project code."
   ]
  },
  {
   "cell_type": "markdown",
   "id": "3cd68c68",
   "metadata": {},
   "source": [
    "### Rule 2: **LWKRMOD**"
   ]
  },
  {
   "cell_type": "code",
   "execution_count": null,
   "id": "f8ccf29c",
   "metadata": {},
   "outputs": [],
   "source": [
    "# This is a placeholder for the project code."
   ]
  },
  {
   "cell_type": "markdown",
   "id": "274a415f",
   "metadata": {},
   "source": [
    "### Rule 3: **PTWINQ**"
   ]
  },
  {
   "cell_type": "code",
   "execution_count": null,
   "id": "78b7492e",
   "metadata": {},
   "outputs": [],
   "source": [
    "# This is a placeholder for the project code."
   ]
  },
  {
   "cell_type": "markdown",
   "id": "0e5f84c6",
   "metadata": {},
   "source": [
    "### Rule 4: **PTWINQS**"
   ]
  },
  {
   "cell_type": "code",
   "execution_count": null,
   "id": "751ee8d3",
   "metadata": {},
   "outputs": [],
   "source": [
    "# This is a placeholder for the project code."
   ]
  },
  {
   "cell_type": "markdown",
   "id": "281a4f60",
   "metadata": {},
   "source": [
    "### Rule 5: **DPTLWKRS**"
   ]
  },
  {
   "cell_type": "code",
   "execution_count": null,
   "id": "26342cc7",
   "metadata": {},
   "outputs": [],
   "source": [
    "# This is a placeholder for the project code."
   ]
  },
  {
   "cell_type": "markdown",
   "id": "7751d193",
   "metadata": {},
   "source": [
    "### Rule 6: **DPTWINQNPT**"
   ]
  },
  {
   "cell_type": "code",
   "execution_count": null,
   "id": "6e866b2c",
   "metadata": {},
   "outputs": [],
   "source": [
    "# This is a placeholder for the project code."
   ]
  },
  {
   "cell_type": "markdown",
   "id": "f09d3e3e",
   "metadata": {},
   "source": [
    "## Reward definition:\n",
    "\n",
    "The goal of the reward function is to lower these values follwing the same priority order.\n",
    "1. Lower **actual tardiness**\n",
    "2. Lower **estimated tardiness**\n",
    "3. Higher **machine utilization**\n",
    "\n",
    "\n",
    "### **How It Works**\n",
    "\n",
    "#### **1. Primary goal — Minimize actual tardiness**\n",
    "- If the **actual tardiness rate (Tarda)** decreases → **reward = +1**  \n",
    "- If it increases → **reward = –1**\n",
    "\n",
    "#### **2. Secondary goal — Reduce estimated tardiness**\n",
    "- If the actual tardiness remains unchanged, compare the **estimated tardiness rate (Tarde):**  \n",
    "  - If Tarde decreases → **reward = +1**  \n",
    "  - If Tarde increases → **reward = –1**\n",
    "\n",
    "#### **3. Tertiary goal — Maintain high machine utilization**\n",
    "- If tardiness values remain unchanged, check the **average machine utilization (Uave):**  \n",
    "  - If Uave increases → **reward = +1**  \n",
    "  - If Uave remains within 95% of its previous value → **reward = 0**  \n",
    "  - Otherwise → **reward = –1**\n",
    "\n",
    "\n"
   ]
  },
  {
   "cell_type": "code",
   "execution_count": 2,
   "id": "a4f991bf",
   "metadata": {},
   "outputs": [],
   "source": [
    "# Reward function implementation goes here."
   ]
  }
 ],
 "metadata": {
  "kernelspec": {
   "display_name": "base",
   "language": "python",
   "name": "python3"
  },
  "language_info": {
   "codemirror_mode": {
    "name": "ipython",
    "version": 3
   },
   "file_extension": ".py",
   "mimetype": "text/x-python",
   "name": "python",
   "nbconvert_exporter": "python",
   "pygments_lexer": "ipython3",
   "version": "3.11.7"
  }
 },
 "nbformat": 4,
 "nbformat_minor": 5
}
